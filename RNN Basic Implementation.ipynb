{
 "cells": [
  {
   "cell_type": "markdown",
   "id": "0300aa5e",
   "metadata": {},
   "source": [
    "# Recurrent Neural Networks (RNN)\n",
    "\n",
    "> **RNN works on the principle of saving the output of a particular layer and feeding this back to the input in order to predict the output of the layer**\n",
    "\n",
    "![](https://www.simplilearn.com/ice9/free_resources_article_thumb/Network_framework.gif)\n",
    "\n",
    "<!--- ![image.png](attachment:image.png) -->  \n",
    "\n",
    "[RNN : src 🔗](https://www.simplilearn.com/tutorials/deep-learning-tutorial/rnn)"
   ]
  },
  {
   "cell_type": "markdown",
   "id": "78bfd435",
   "metadata": {},
   "source": [
    "--- \n",
    "## Importing Dependencies:\n"
   ]
  },
  {
   "cell_type": "code",
   "execution_count": 144,
   "id": "ebbb5794",
   "metadata": {},
   "outputs": [],
   "source": [
    "import tensorflow as tf\n",
    "from tensorflow.keras.models import Sequential\n",
    "from tensorflow.keras.layers import Dense, Dropout, LSTM\n",
    "\n",
    "import numpy as np\n",
    "from matplotlib import pyplot as plt\n",
    "import random\n"
   ]
  },
  {
   "cell_type": "markdown",
   "id": "dcaf6b63",
   "metadata": {},
   "source": [
    "---\n",
    "## Loading Dataset \n",
    "(here, we have used tensorflow mnist dataset, Handwritten digits and their labels)"
   ]
  },
  {
   "cell_type": "code",
   "execution_count": 38,
   "id": "3a6eb846",
   "metadata": {},
   "outputs": [],
   "source": [
    "data = tf.keras.datasets.mnist\n",
    "\n",
    "#unpacking data:\n",
    "#    images to x_train/x_test\n",
    "#    labels to y_train/y_test\n",
    "(x_train, y_train), (x_test, y_test) = data.load_data()"
   ]
  },
  {
   "cell_type": "code",
   "execution_count": 55,
   "id": "47b8c201",
   "metadata": {},
   "outputs": [],
   "source": [
    "x_train = x_train/255.0\n",
    "x_test = x_test/255.0"
   ]
  },
  {
   "cell_type": "code",
   "execution_count": 56,
   "id": "d84a9f1a",
   "metadata": {},
   "outputs": [
    {
     "data": {
      "text/plain": [
       "(60000, 28, 28)"
      ]
     },
     "execution_count": 56,
     "metadata": {},
     "output_type": "execute_result"
    }
   ],
   "source": [
    "x_train.shape"
   ]
  },
  {
   "cell_type": "code",
   "execution_count": 57,
   "id": "9f1620e9",
   "metadata": {},
   "outputs": [
    {
     "data": {
      "text/plain": [
       "(28, 28)"
      ]
     },
     "execution_count": 57,
     "metadata": {},
     "output_type": "execute_result"
    }
   ],
   "source": [
    "x_train[0].shape"
   ]
  },
  {
   "cell_type": "code",
   "execution_count": 110,
   "id": "f32c92cb",
   "metadata": {},
   "outputs": [
    {
     "name": "stdout",
     "output_type": "stream",
     "text": [
      "(28 x 28 pixels per image)\n"
     ]
    },
    {
     "data": {
      "image/png": "[encoded data removed]",
      "text/plain": [
       "<Figure size 500x500 with 6 Axes>"
      ]
     },
     "metadata": {},
     "output_type": "display_data"
    }
   ],
   "source": [
    "fig = plt.figure(figsize=(5, 5))\n",
    "rows = 2\n",
    "columns = 3\n",
    "\n",
    "fig.add_subplot(rows, columns, 1)\n",
    "plt.imshow(x_train[0])\n",
    "plt.title(y_train[0])\n",
    "plt.axis('off')\n",
    "\n",
    "fig.add_subplot(rows, columns, 2)\n",
    "plt.imshow(x_train[3])\n",
    "plt.title(y_train[3])\n",
    "plt.axis('off')\n",
    "\n",
    "fig.add_subplot(rows, columns, 3)\n",
    "plt.imshow(x_train[90])\n",
    "plt.title(y_train[90])\n",
    "plt.axis('off')\n",
    "\n",
    "fig.add_subplot(rows, columns, 4)\n",
    "plt.imshow(x_train[5])\n",
    "plt.title(y_train[5])\n",
    "plt.axis('off')\n",
    "\n",
    "fig.add_subplot(rows, columns, 5)\n",
    "plt.imshow(x_train[10])\n",
    "plt.title(y_train[10])\n",
    "plt.axis('off')\n",
    "\n",
    "fig.add_subplot(rows, columns, 6)\n",
    "plt.imshow(x_train[300])\n",
    "plt.title(y_train[300])\n",
    "plt.axis('off')\n",
    "\n",
    "\n",
    "print(\"(28 x 28 pixels per image)\")"
   ]
  },
  {
   "cell_type": "markdown",
   "id": "949674e2",
   "metadata": {},
   "source": [
    "---"
   ]
  },
  {
   "cell_type": "markdown",
   "id": "91afb277",
   "metadata": {},
   "source": [
    "## Model Formation:"
   ]
  },
  {
   "cell_type": "code",
   "execution_count": 101,
   "id": "051a4d42",
   "metadata": {},
   "outputs": [],
   "source": [
    "# Loading Sequential Model for Layer Stacking\n",
    "model = Sequential()"
   ]
  },
  {
   "cell_type": "markdown",
   "id": "f0d0473c",
   "metadata": {},
   "source": [
    "<img src=\"https://miro.medium.com/v2/resize:fit:828/format:webp/1*B0q2ZLsUUw31eEImeVf3PQ.png\" />"
   ]
  },
  {
   "cell_type": "code",
   "execution_count": 102,
   "id": "3c2d160f",
   "metadata": {},
   "outputs": [
    {
     "data": {
      "text/plain": [
       "(28, 28)"
      ]
     },
     "execution_count": 102,
     "metadata": {},
     "output_type": "execute_result"
    }
   ],
   "source": [
    "x_train.shape[1:]"
   ]
  },
  {
   "cell_type": "code",
   "execution_count": 103,
   "id": "8caad136",
   "metadata": {},
   "outputs": [
    {
     "name": "stdout",
     "output_type": "stream",
     "text": [
      "Model: \"sequential_5\"\n",
      "_________________________________________________________________\n",
      " Layer (type)                Output Shape              Param #   \n",
      "=================================================================\n",
      " lstm_4 (LSTM)               (None, 28, 128)           80384     \n",
      "                                                                 \n",
      " dropout_3 (Dropout)         (None, 28, 128)           0         \n",
      "                                                                 \n",
      " lstm_5 (LSTM)               (None, 128)               131584    \n",
      "                                                                 \n",
      " dropout_4 (Dropout)         (None, 128)               0         \n",
      "                                                                 \n",
      " dense_2 (Dense)             (None, 32)                4128      \n",
      "                                                                 \n",
      " dropout_5 (Dropout)         (None, 32)                0         \n",
      "                                                                 \n",
      " dense_3 (Dense)             (None, 10)                330       \n",
      "                                                                 \n",
      "=================================================================\n",
      "Total params: 216,426\n",
      "Trainable params: 216,426\n",
      "Non-trainable params: 0\n",
      "_________________________________________________________________\n"
     ]
    }
   ],
   "source": [
    "# Adding Layers to loaded model as per requirement\n",
    "# Here we will use LSTM and Dense\n",
    "\n",
    "model.add(LSTM(128, input_shape=(x_train.shape[1:]), activation='relu', return_sequences=True))\n",
    "model.add(Dropout(0.2))\n",
    "# The Dropout layer randomly sets input units to 0 with a frequency of rate at each step during training time, \n",
    "# which helps prevent overfitting\n",
    "\n",
    "model.add(LSTM(128, activation=\"relu\"))\n",
    "model.add(Dropout(0.1))\n",
    "\n",
    "# Dense layer is the regular deeply connected neural network layer. It is most common and frequently used layer. \n",
    "model.add(Dense(32, activation='relu'))\n",
    "model.add(Dropout(0.2))\n",
    "\n",
    "model.add(Dense(10, activation='softmax'))\n",
    "model.summary()"
   ]
  },
  {
   "cell_type": "code",
   "execution_count": 107,
   "id": "a9eb1f99",
   "metadata": {},
   "outputs": [
    {
     "name": "stdout",
     "output_type": "stream",
     "text": [
      "Model: \"sequential_5\"\n",
      "_________________________________________________________________\n",
      " Layer (type)                Output Shape              Param #   \n",
      "=================================================================\n",
      " lstm_4 (LSTM)               (None, 28, 128)           80384     \n",
      "                                                                 \n",
      " dropout_3 (Dropout)         (None, 28, 128)           0         \n",
      "                                                                 \n",
      " lstm_5 (LSTM)               (None, 128)               131584    \n",
      "                                                                 \n",
      " dropout_4 (Dropout)         (None, 128)               0         \n",
      "                                                                 \n",
      " dense_2 (Dense)             (None, 32)                4128      \n",
      "                                                                 \n",
      " dropout_5 (Dropout)         (None, 32)                0         \n",
      "                                                                 \n",
      " dense_3 (Dense)             (None, 10)                330       \n",
      "                                                                 \n",
      "=================================================================\n",
      "Total params: 216,426\n",
      "Trainable params: 216,426\n",
      "Non-trainable params: 0\n",
      "_________________________________________________________________\n"
     ]
    }
   ],
   "source": [
    "# Setting up an Optimizer\n",
    "\n",
    "opt = tf.keras.optimizers.legacy.Adam(learning_rate=0.001, decay=1e-6)\n",
    "\n",
    "# Compiling the model (Building up Neural Network)\n",
    "model.compile(\n",
    "loss='sparse_categorical_crossentropy',\n",
    "optimizer=opt,\n",
    "metrics=['accuracy']\n",
    ")\n",
    "\n",
    "model.summary()"
   ]
  },
  {
   "cell_type": "markdown",
   "id": "6a83dd5e",
   "metadata": {},
   "source": [
    "--- \n",
    "## Training the model:"
   ]
  },
  {
   "cell_type": "code",
   "execution_count": 119,
   "id": "f6355821",
   "metadata": {},
   "outputs": [
    {
     "name": "stdout",
     "output_type": "stream",
     "text": [
      "Epoch 1/3\n",
      "1875/1875 [==============================] - 57s 31ms/step - loss: 0.0856 - accuracy: 0.9771 - val_loss: 0.0750 - val_accuracy: 0.9789\n",
      "Epoch 2/3\n",
      "1875/1875 [==============================] - 59s 31ms/step - loss: 0.0685 - accuracy: 0.9814 - val_loss: 0.0604 - val_accuracy: 0.9823\n",
      "Epoch 3/3\n",
      "1875/1875 [==============================] - 59s 32ms/step - loss: 0.0635 - accuracy: 0.9825 - val_loss: 0.0461 - val_accuracy: 0.9853\n"
     ]
    },
    {
     "data": {
      "text/plain": [
       "<keras.callbacks.History at 0x11ef6af5040>"
      ]
     },
     "execution_count": 119,
     "metadata": {},
     "output_type": "execute_result"
    }
   ],
   "source": [
    "model.fit(x_train, y_train, epochs=3, validation_data=(x_test, y_test))"
   ]
  },
  {
   "cell_type": "markdown",
   "id": "23624c19",
   "metadata": {},
   "source": [
    "---\n",
    "## Prediction:"
   ]
  },
  {
   "cell_type": "code",
   "execution_count": 121,
   "id": "61eaca94",
   "metadata": {},
   "outputs": [
    {
     "name": "stdout",
     "output_type": "stream",
     "text": [
      "313/313 [==============================] - 3s 11ms/step\n"
     ]
    }
   ],
   "source": [
    "y_predict = model.predict(x_test)"
   ]
  },
  {
   "cell_type": "code",
   "execution_count": 145,
   "id": "56c2bb0f",
   "metadata": {},
   "outputs": [
    {
     "data": {
      "text/plain": [
       "array([[8.4546437e-10, 1.4604345e-07, 1.5191360e-07, ..., 9.9999917e-01,\n",
       "        1.0026805e-08, 5.6614618e-07],\n",
       "       [1.9909291e-17, 7.7764124e-13, 1.0000000e+00, ..., 7.9717449e-14,\n",
       "        1.3160085e-18, 8.7198706e-21],\n",
       "       [1.0385245e-09, 9.9999428e-01, 3.8903359e-08, ..., 2.4798669e-06,\n",
       "        2.7429003e-06, 2.0740394e-07],\n",
       "       ...,\n",
       "       [1.0458551e-21, 1.3908685e-13, 2.3491046e-15, ..., 3.4881835e-09,\n",
       "        5.2355772e-12, 3.9489551e-06],\n",
       "       [1.7513496e-07, 5.8793921e-06, 3.6314975e-07, ..., 3.7292810e-07,\n",
       "        1.6769183e-04, 5.3889627e-05],\n",
       "       [3.2093667e-06, 4.4705444e-09, 3.7406696e-07, ..., 4.1019419e-12,\n",
       "        8.6583140e-07, 1.3434739e-09]], dtype=float32)"
      ]
     },
     "execution_count": 145,
     "metadata": {},
     "output_type": "execute_result"
    }
   ],
   "source": [
    "y_predict"
   ]
  },
  {
   "cell_type": "code",
   "execution_count": 146,
   "id": "83b975d8",
   "metadata": {},
   "outputs": [
    {
     "data": {
      "text/plain": [
       "(10000, 10)"
      ]
     },
     "execution_count": 146,
     "metadata": {},
     "output_type": "execute_result"
    }
   ],
   "source": [
    "y_predict.shape"
   ]
  },
  {
   "cell_type": "code",
   "execution_count": 208,
   "id": "2823e764",
   "metadata": {},
   "outputs": [
    {
     "data": {
      "text/plain": [
       "(-0.5, 27.5, 27.5, -0.5)"
      ]
     },
     "execution_count": 208,
     "metadata": {},
     "output_type": "execute_result"
    },
    {
     "data": {
      "image/png": "[encoded data removed]",
      "text/plain": [
       "<Figure size 500x500 with 1 Axes>"
      ]
     },
     "metadata": {},
     "output_type": "display_data"
    }
   ],
   "source": [
    "fig = plt.figure(figsize=(5, 5))\n",
    "rows = 4\n",
    "columns = 4\n",
    "\n",
    "index = random.randint(0,9999)\n",
    "\n",
    "fig.add_subplot(rows, columns, 1)\n",
    "plt.imshow(x_test[index])\n",
    "plt.title(\"Predicted Value: {}\\nOriginal Input:\".format(y_predict[index].argmax()))\n",
    "plt.axis('off')\n"
   ]
  },
  {
   "cell_type": "code",
   "execution_count": 209,
   "id": "2437d3e7",
   "metadata": {},
   "outputs": [
    {
     "name": "stdout",
     "output_type": "stream",
     "text": [
      "predicted value: 4\n",
      "Original test value: 4\n"
     ]
    }
   ],
   "source": [
    "print(\"predicted value: {}\".format(y_predict[index].argmax()))\n",
    "print(\"Original test value: {}\".format(y_test[index]))"
   ]
  },
  {
   "cell_type": "markdown",
   "id": "aa763fa3",
   "metadata": {},
   "source": [
    "---"
   ]
  }
 ],
 "metadata": {
  "kernelspec": {
   "display_name": "Python 3 (ipykernel)",
   "language": "python",
   "name": "python3"
  },
  "language_info": {
   "codemirror_mode": {
    "name": "ipython",
    "version": 3
   },
   "file_extension": ".py",
   "mimetype": "text/x-python",
   "name": "python",
   "nbconvert_exporter": "python",
   "pygments_lexer": "ipython3",
   "version": "3.9.13"
  }
 },
 "nbformat": 4,
 "nbformat_minor": 5
}
